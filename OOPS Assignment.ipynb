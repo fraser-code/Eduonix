{
 "cells": [
  {
   "cell_type": "code",
   "execution_count": 22,
   "id": "220ce8a7",
   "metadata": {},
   "outputs": [
    {
     "name": "stdout",
     "output_type": "stream",
     "text": [
      "Honk Honk\n",
      "Maximum speed is 180Km/H\n"
     ]
    }
   ],
   "source": [
    "class Car:\n",
    "    \n",
    "    def __init__(self, name, price, colour, speed):\n",
    "        self.name = name\n",
    "        self.price = price\n",
    "        self.colour = colour\n",
    "        self.speed = speed\n",
    "    \n",
    "    def sound(self):\n",
    "        print('Honk Honk')\n",
    "    \n",
    "    def get_speed(self):\n",
    "        print('Maximum speed is {}'.format(self.speed))\n",
    "        \n",
    "    def display(self):\n",
    "        self.sound()\n",
    "        self.get_speed()\n",
    "        \n",
    "class Thar(Car):\n",
    "    def show(self):\n",
    "        super().sound()\n",
    "        super().get_speed()\n",
    "        \n",
    "audi = Thar('Audi', '50,000', 'Matt Black', '180Km/H')\n",
    "\n",
    "audi.show()"
   ]
  },
  {
   "cell_type": "code",
   "execution_count": 30,
   "id": "3378b378",
   "metadata": {},
   "outputs": [
    {
     "name": "stdout",
     "output_type": "stream",
     "text": [
      "Enter Numerator: 3\n",
      "Enter Denominator: 0\n",
      "NOT POSSIBLE BRO\n"
     ]
    }
   ],
   "source": [
    "N = int(input('Enter Numerator: '))\n",
    "D = int(input('Enter Denominator: '))\n",
    "\n",
    "try:\n",
    "    z = N/D\n",
    "    print(z)\n",
    "\n",
    "except ZeroDivisionError:\n",
    "    print('NOT POSSIBLE BRO')"
   ]
  },
  {
   "cell_type": "code",
   "execution_count": null,
   "id": "f64513eb",
   "metadata": {},
   "outputs": [],
   "source": []
  }
 ],
 "metadata": {
  "kernelspec": {
   "display_name": "Python 3 (ipykernel)",
   "language": "python",
   "name": "python3"
  },
  "language_info": {
   "codemirror_mode": {
    "name": "ipython",
    "version": 3
   },
   "file_extension": ".py",
   "mimetype": "text/x-python",
   "name": "python",
   "nbconvert_exporter": "python",
   "pygments_lexer": "ipython3",
   "version": "3.9.13"
  }
 },
 "nbformat": 4,
 "nbformat_minor": 5
}
