{
 "cells": [
  {
   "cell_type": "markdown",
   "id": "ea085b8d",
   "metadata": {},
   "source": [
    "# LOAD THE DATASET FROM THE GIVEN BELOW LINK."
   ]
  },
  {
   "cell_type": "markdown",
   "id": "cc3e9a55",
   "metadata": {},
   "source": [
    "https://drive.google.com/file/d/1RWvyhf9AcDZsSB5xVVgzsbHI1m4sFBJf/view?usp=share_link"
   ]
  },
  {
   "cell_type": "code",
   "execution_count": 169,
   "id": "08f7a10c",
   "metadata": {},
   "outputs": [],
   "source": [
    "import pandas as pd\n",
    "import numpy as np"
   ]
  },
  {
   "cell_type": "code",
   "execution_count": 170,
   "id": "082770dc",
   "metadata": {},
   "outputs": [
    {
     "data": {
      "text/html": [
       "<div>\n",
       "<style scoped>\n",
       "    .dataframe tbody tr th:only-of-type {\n",
       "        vertical-align: middle;\n",
       "    }\n",
       "\n",
       "    .dataframe tbody tr th {\n",
       "        vertical-align: top;\n",
       "    }\n",
       "\n",
       "    .dataframe thead th {\n",
       "        text-align: right;\n",
       "    }\n",
       "</style>\n",
       "<table border=\"1\" class=\"dataframe\">\n",
       "  <thead>\n",
       "    <tr style=\"text-align: right;\">\n",
       "      <th></th>\n",
       "      <th>Quantity</th>\n",
       "      <th>Name</th>\n",
       "      <th>Description</th>\n",
       "      <th>Price</th>\n",
       "      <th>Count</th>\n",
       "      <th>Per Item Price</th>\n",
       "    </tr>\n",
       "  </thead>\n",
       "  <tbody>\n",
       "    <tr>\n",
       "      <th>1</th>\n",
       "      <td>1</td>\n",
       "      <td>Chips and Fresh Tomato Salsa</td>\n",
       "      <td>NaN</td>\n",
       "      <td>2.39</td>\n",
       "      <td>1</td>\n",
       "      <td>2.39</td>\n",
       "    </tr>\n",
       "    <tr>\n",
       "      <th>1</th>\n",
       "      <td>1</td>\n",
       "      <td>Izze</td>\n",
       "      <td>[Clementine]</td>\n",
       "      <td>3.39</td>\n",
       "      <td>1</td>\n",
       "      <td>3.39</td>\n",
       "    </tr>\n",
       "    <tr>\n",
       "      <th>1</th>\n",
       "      <td>1</td>\n",
       "      <td>Nantucket Nectar</td>\n",
       "      <td>[Apple]</td>\n",
       "      <td>3.39</td>\n",
       "      <td>1</td>\n",
       "      <td>3.39</td>\n",
       "    </tr>\n",
       "    <tr>\n",
       "      <th>1</th>\n",
       "      <td>1</td>\n",
       "      <td>Chips and Tomatillo-Green Chili Salsa</td>\n",
       "      <td>NaN</td>\n",
       "      <td>2.39</td>\n",
       "      <td>1</td>\n",
       "      <td>2.39</td>\n",
       "    </tr>\n",
       "    <tr>\n",
       "      <th>2</th>\n",
       "      <td>2</td>\n",
       "      <td>Chicken Bowl</td>\n",
       "      <td>[Tomatillo-Red Chili Salsa (Hot), [Black Beans...</td>\n",
       "      <td>16.98</td>\n",
       "      <td>1</td>\n",
       "      <td>8.49</td>\n",
       "    </tr>\n",
       "    <tr>\n",
       "      <th>...</th>\n",
       "      <td>...</td>\n",
       "      <td>...</td>\n",
       "      <td>...</td>\n",
       "      <td>...</td>\n",
       "      <td>...</td>\n",
       "      <td>...</td>\n",
       "    </tr>\n",
       "    <tr>\n",
       "      <th>1833</th>\n",
       "      <td>1</td>\n",
       "      <td>Steak Burrito</td>\n",
       "      <td>[Fresh Tomato Salsa, [Rice, Black Beans, Sour ...</td>\n",
       "      <td>11.75</td>\n",
       "      <td>1</td>\n",
       "      <td>11.75</td>\n",
       "    </tr>\n",
       "    <tr>\n",
       "      <th>1833</th>\n",
       "      <td>1</td>\n",
       "      <td>Steak Burrito</td>\n",
       "      <td>[Fresh Tomato Salsa, [Rice, Sour Cream, Cheese...</td>\n",
       "      <td>11.75</td>\n",
       "      <td>1</td>\n",
       "      <td>11.75</td>\n",
       "    </tr>\n",
       "    <tr>\n",
       "      <th>1834</th>\n",
       "      <td>1</td>\n",
       "      <td>Chicken Salad Bowl</td>\n",
       "      <td>[Fresh Tomato Salsa, [Fajita Vegetables, Pinto...</td>\n",
       "      <td>11.25</td>\n",
       "      <td>1</td>\n",
       "      <td>11.25</td>\n",
       "    </tr>\n",
       "    <tr>\n",
       "      <th>1834</th>\n",
       "      <td>1</td>\n",
       "      <td>Chicken Salad Bowl</td>\n",
       "      <td>[Fresh Tomato Salsa, [Fajita Vegetables, Lettu...</td>\n",
       "      <td>8.75</td>\n",
       "      <td>1</td>\n",
       "      <td>8.75</td>\n",
       "    </tr>\n",
       "    <tr>\n",
       "      <th>1834</th>\n",
       "      <td>1</td>\n",
       "      <td>Chicken Salad Bowl</td>\n",
       "      <td>[Fresh Tomato Salsa, [Fajita Vegetables, Pinto...</td>\n",
       "      <td>8.75</td>\n",
       "      <td>1</td>\n",
       "      <td>8.75</td>\n",
       "    </tr>\n",
       "  </tbody>\n",
       "</table>\n",
       "<p>4622 rows × 6 columns</p>\n",
       "</div>"
      ],
      "text/plain": [
       "      Quantity                                   Name  \\\n",
       "1            1           Chips and Fresh Tomato Salsa   \n",
       "1            1                                   Izze   \n",
       "1            1                       Nantucket Nectar   \n",
       "1            1  Chips and Tomatillo-Green Chili Salsa   \n",
       "2            2                           Chicken Bowl   \n",
       "...        ...                                    ...   \n",
       "1833         1                          Steak Burrito   \n",
       "1833         1                          Steak Burrito   \n",
       "1834         1                     Chicken Salad Bowl   \n",
       "1834         1                     Chicken Salad Bowl   \n",
       "1834         1                     Chicken Salad Bowl   \n",
       "\n",
       "                                            Description  Price  Count  \\\n",
       "1                                                   NaN   2.39      1   \n",
       "1                                          [Clementine]   3.39      1   \n",
       "1                                               [Apple]   3.39      1   \n",
       "1                                                   NaN   2.39      1   \n",
       "2     [Tomatillo-Red Chili Salsa (Hot), [Black Beans...  16.98      1   \n",
       "...                                                 ...    ...    ...   \n",
       "1833  [Fresh Tomato Salsa, [Rice, Black Beans, Sour ...  11.75      1   \n",
       "1833  [Fresh Tomato Salsa, [Rice, Sour Cream, Cheese...  11.75      1   \n",
       "1834  [Fresh Tomato Salsa, [Fajita Vegetables, Pinto...  11.25      1   \n",
       "1834  [Fresh Tomato Salsa, [Fajita Vegetables, Lettu...   8.75      1   \n",
       "1834  [Fresh Tomato Salsa, [Fajita Vegetables, Pinto...   8.75      1   \n",
       "\n",
       "      Per Item Price  \n",
       "1               2.39  \n",
       "1               3.39  \n",
       "1               3.39  \n",
       "1               2.39  \n",
       "2               8.49  \n",
       "...              ...  \n",
       "1833           11.75  \n",
       "1833           11.75  \n",
       "1834           11.25  \n",
       "1834            8.75  \n",
       "1834            8.75  \n",
       "\n",
       "[4622 rows x 6 columns]"
      ]
     },
     "execution_count": 170,
     "metadata": {},
     "output_type": "execute_result"
    }
   ],
   "source": [
    "df = pd.read_csv(r\"C:\\Users\\frase\\Documents\\Fraser\\Eduonix\\Live lectures\\chipotle.tsv\", delimiter = '\\t', header = 0, index_col = 0, names = ['Quantity','Name', 'Description', 'Price'])\n",
    "df['Price'] = df['Price'].str[1:].astype(float)\n",
    "df['Count'] = 1\n",
    "df['Per Item Price'] = df['Price']/df['Quantity']\n",
    "df"
   ]
  },
  {
   "cell_type": "code",
   "execution_count": null,
   "id": "e3e3ea36",
   "metadata": {},
   "outputs": [],
   "source": []
  },
  {
   "cell_type": "markdown",
   "id": "86d03e4a",
   "metadata": {},
   "source": [
    "# USING PANDAS FUNCTION CALCULATE HOW MANY PRODUCTS COSTS MORE THAN $10?"
   ]
  },
  {
   "cell_type": "code",
   "execution_count": 171,
   "id": "a254fff8",
   "metadata": {},
   "outputs": [],
   "source": [
    "above_10 = df.loc[(df['Per Item Price']>=10)].count().max()"
   ]
  },
  {
   "cell_type": "code",
   "execution_count": 172,
   "id": "8118aecf",
   "metadata": {},
   "outputs": [
    {
     "name": "stdout",
     "output_type": "stream",
     "text": [
      "There are 1034 items above $10\n"
     ]
    }
   ],
   "source": [
    "print('There are', above_10, 'items above $10')"
   ]
  },
  {
   "cell_type": "code",
   "execution_count": null,
   "id": "9bde7e2f",
   "metadata": {},
   "outputs": [],
   "source": []
  },
  {
   "cell_type": "markdown",
   "id": "4b31998f",
   "metadata": {},
   "source": [
    "# What is the price of each item?"
   ]
  },
  {
   "cell_type": "code",
   "execution_count": 187,
   "id": "fc3d1a6c",
   "metadata": {
    "scrolled": false
   },
   "outputs": [
    {
     "data": {
      "text/plain": [
       "Name               Price\n",
       "6 Pack Soft Drink  6.49      6.49\n",
       "                   12.98     6.49\n",
       "Barbacoa Bowl      8.69      8.69\n",
       "                   8.99      8.99\n",
       "                   9.25      9.25\n",
       "                            ...  \n",
       "Veggie Salad Bowl  11.25    11.25\n",
       "Veggie Soft Tacos  8.49      8.49\n",
       "                   8.75      8.75\n",
       "                   11.25    11.25\n",
       "                   16.98     8.49\n",
       "Name: Per Item Price, Length: 209, dtype: float64"
      ]
     },
     "execution_count": 187,
     "metadata": {},
     "output_type": "execute_result"
    }
   ],
   "source": [
    "df3 = df.groupby(['Name','Price']).mean()\n",
    "df3['Per Item Price']"
   ]
  },
  {
   "cell_type": "markdown",
   "id": "f5cdc7e8",
   "metadata": {},
   "source": [
    "# Which is the Most Expensive Item?"
   ]
  },
  {
   "cell_type": "code",
   "execution_count": 182,
   "id": "173a6e3b",
   "metadata": {},
   "outputs": [
    {
     "data": {
      "text/html": [
       "<div>\n",
       "<style scoped>\n",
       "    .dataframe tbody tr th:only-of-type {\n",
       "        vertical-align: middle;\n",
       "    }\n",
       "\n",
       "    .dataframe tbody tr th {\n",
       "        vertical-align: top;\n",
       "    }\n",
       "\n",
       "    .dataframe thead th {\n",
       "        text-align: right;\n",
       "    }\n",
       "</style>\n",
       "<table border=\"1\" class=\"dataframe\">\n",
       "  <thead>\n",
       "    <tr style=\"text-align: right;\">\n",
       "      <th></th>\n",
       "      <th>Per Item Price</th>\n",
       "    </tr>\n",
       "    <tr>\n",
       "      <th>Name</th>\n",
       "      <th></th>\n",
       "    </tr>\n",
       "  </thead>\n",
       "  <tbody>\n",
       "    <tr>\n",
       "      <th>Barbacoa Salad Bowl</th>\n",
       "      <td>11.89</td>\n",
       "    </tr>\n",
       "    <tr>\n",
       "      <th>Carnitas Salad Bowl</th>\n",
       "      <td>11.89</td>\n",
       "    </tr>\n",
       "    <tr>\n",
       "      <th>Steak Salad Bowl</th>\n",
       "      <td>11.89</td>\n",
       "    </tr>\n",
       "  </tbody>\n",
       "</table>\n",
       "</div>"
      ],
      "text/plain": [
       "                     Per Item Price\n",
       "Name                               \n",
       "Barbacoa Salad Bowl           11.89\n",
       "Carnitas Salad Bowl           11.89\n",
       "Steak Salad Bowl              11.89"
      ]
     },
     "execution_count": 182,
     "metadata": {},
     "output_type": "execute_result"
    }
   ],
   "source": [
    "# Most expencive by individual item prices\n",
    "x = df['Per Item Price'].max()\n",
    "exp = df.loc[df['Per Item Price'] == x]\n",
    "exp = exp.drop(['Quantity','Count','Price'], axis = 1)\n",
    "exp.groupby('Name').mean()"
   ]
  },
  {
   "cell_type": "code",
   "execution_count": 183,
   "id": "b8c21377",
   "metadata": {
    "scrolled": true
   },
   "outputs": [
    {
     "data": {
      "text/html": [
       "<div>\n",
       "<style scoped>\n",
       "    .dataframe tbody tr th:only-of-type {\n",
       "        vertical-align: middle;\n",
       "    }\n",
       "\n",
       "    .dataframe tbody tr th {\n",
       "        vertical-align: top;\n",
       "    }\n",
       "\n",
       "    .dataframe thead th {\n",
       "        text-align: right;\n",
       "    }\n",
       "</style>\n",
       "<table border=\"1\" class=\"dataframe\">\n",
       "  <thead>\n",
       "    <tr style=\"text-align: right;\">\n",
       "      <th></th>\n",
       "      <th>Quantity</th>\n",
       "      <th>Name</th>\n",
       "      <th>Description</th>\n",
       "      <th>Price</th>\n",
       "      <th>Count</th>\n",
       "      <th>Per Item Price</th>\n",
       "    </tr>\n",
       "  </thead>\n",
       "  <tbody>\n",
       "    <tr>\n",
       "      <th>1443</th>\n",
       "      <td>15</td>\n",
       "      <td>Chips and Fresh Tomato Salsa</td>\n",
       "      <td>NaN</td>\n",
       "      <td>44.25</td>\n",
       "      <td>1</td>\n",
       "      <td>2.95</td>\n",
       "    </tr>\n",
       "  </tbody>\n",
       "</table>\n",
       "</div>"
      ],
      "text/plain": [
       "      Quantity                          Name Description  Price  Count  \\\n",
       "1443        15  Chips and Fresh Tomato Salsa         NaN  44.25      1   \n",
       "\n",
       "      Per Item Price  \n",
       "1443            2.95  "
      ]
     },
     "execution_count": 183,
     "metadata": {},
     "output_type": "execute_result"
    }
   ],
   "source": [
    "#Most expencive by Total order price\n",
    "x = df['Price'].max()\n",
    "df.loc[df['Price'] == x]"
   ]
  },
  {
   "cell_type": "code",
   "execution_count": null,
   "id": "13bd8df9",
   "metadata": {},
   "outputs": [],
   "source": []
  }
 ],
 "metadata": {
  "kernelspec": {
   "display_name": "Python 3 (ipykernel)",
   "language": "python",
   "name": "python3"
  },
  "language_info": {
   "codemirror_mode": {
    "name": "ipython",
    "version": 3
   },
   "file_extension": ".py",
   "mimetype": "text/x-python",
   "name": "python",
   "nbconvert_exporter": "python",
   "pygments_lexer": "ipython3",
   "version": "3.9.13"
  }
 },
 "nbformat": 4,
 "nbformat_minor": 5
}
